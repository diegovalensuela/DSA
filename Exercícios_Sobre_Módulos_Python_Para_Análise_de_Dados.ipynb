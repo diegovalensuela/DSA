{
  "nbformat": 4,
  "nbformat_minor": 0,
  "metadata": {
    "colab": {
      "name": "Exercícios Sobre Módulos Python Para Análise de Dados",
      "provenance": [],
      "collapsed_sections": [],
      "authorship_tag": "ABX9TyO5jlPSoIobNy9e/Av9frhm",
      "include_colab_link": true
    },
    "kernelspec": {
      "name": "python3",
      "display_name": "Python 3"
    }
  },
  "cells": [
    {
      "cell_type": "markdown",
      "metadata": {
        "id": "view-in-github",
        "colab_type": "text"
      },
      "source": [
        "<a href=\"https://colab.research.google.com/github/diegovalensuela/DSA/blob/master/Exerc%C3%ADcios_Sobre_M%C3%B3dulos_Python_Para_An%C3%A1lise_de_Dados.ipynb\" target=\"_parent\"><img src=\"https://colab.research.google.com/assets/colab-badge.svg\" alt=\"Open In Colab\"/></a>"
      ]
    },
    {
      "cell_type": "markdown",
      "metadata": {
        "id": "877DPH2pt98N",
        "colab_type": "text"
      },
      "source": [
        "Exercícios Sobre Módulos Python Para Análise de Dados"
      ]
    },
    {
      "cell_type": "markdown",
      "metadata": {
        "id": "pKAdKe1WuCD4",
        "colab_type": "text"
      },
      "source": [
        "#####Exercício 1"
      ]
    },
    {
      "cell_type": "code",
      "metadata": {
        "id": "qEQnJCgVuYZE",
        "colab_type": "code",
        "colab": {}
      },
      "source": [
        "# Crie um array NumPy com 1000000 e uma lista com 1000000.\n",
        "# Multiplique cada elemento do array e da lista por 2 e calcule o tempo de execução com cada um dos objetos (use %time).\n",
        "# Qual objeto oferece melhor performance, array NumPy ou lista?\n",
        "import numpy as np"
      ],
      "execution_count": null,
      "outputs": []
    },
    {
      "cell_type": "code",
      "metadata": {
        "id": "hOCtB2TIs9IO",
        "colab_type": "code",
        "colab": {
          "base_uri": "https://localhost:8080/",
          "height": 108
        },
        "outputId": "b212c8d5-2aa3-4367-bb72-908272a220bc"
      },
      "source": [
        "array = np.arange(1000000)\n",
        "%time array_result = array*2\n",
        "print()\n",
        "lista = list(range(1000000))\n",
        "%time lista_result = list(map(lambda x: x*2, lista))"
      ],
      "execution_count": null,
      "outputs": [
        {
          "output_type": "stream",
          "text": [
            "CPU times: user 4.56 ms, sys: 1.96 ms, total: 6.52 ms\n",
            "Wall time: 17.1 ms\n",
            "\n",
            "CPU times: user 242 ms, sys: 134 ms, total: 376 ms\n",
            "Wall time: 400 ms\n"
          ],
          "name": "stdout"
        }
      ]
    },
    {
      "cell_type": "markdown",
      "metadata": {
        "id": "IbAnabCWuKWD",
        "colab_type": "text"
      },
      "source": [
        "#####Exercício 2"
      ]
    },
    {
      "cell_type": "code",
      "metadata": {
        "id": "DH8mVWAaubdk",
        "colab_type": "code",
        "colab": {
          "base_uri": "https://localhost:8080/",
          "height": 35
        },
        "outputId": "7cea0381-203c-46b3-dbbb-47651ecd5704"
      },
      "source": [
        "# Exercício 2\n",
        "# Crie um array de 10 elementos\n",
        "# Altere o valores de todos os elementos dos índices 5 a 8 para 0\n",
        "array = np.arange(10)\n",
        "array[5:8] = 0\n",
        "print(array)"
      ],
      "execution_count": null,
      "outputs": [
        {
          "output_type": "stream",
          "text": [
            "[0 1 2 3 4 0 0 0 8 9]\n"
          ],
          "name": "stdout"
        }
      ]
    },
    {
      "cell_type": "markdown",
      "metadata": {
        "id": "ztDDNvabuLyi",
        "colab_type": "text"
      },
      "source": [
        "#####Exercício 3"
      ]
    },
    {
      "cell_type": "code",
      "metadata": {
        "id": "IHB6vaSTueqt",
        "colab_type": "code",
        "colab": {
          "base_uri": "https://localhost:8080/",
          "height": 145
        },
        "outputId": "65f0adf0-7017-424e-fa48-409df26e6eae"
      },
      "source": [
        "# Crie um array de 3 dimensões e imprima a dimensão 1\n",
        "matriz = np.ones((2,3,2))\n",
        "print(matriz)"
      ],
      "execution_count": null,
      "outputs": [
        {
          "output_type": "stream",
          "text": [
            "[[[1. 1.]\n",
            "  [1. 1.]\n",
            "  [1. 1.]]\n",
            "\n",
            " [[1. 1.]\n",
            "  [1. 1.]\n",
            "  [1. 1.]]]\n"
          ],
          "name": "stdout"
        }
      ]
    },
    {
      "cell_type": "code",
      "metadata": {
        "id": "WDXviRyu4vhg",
        "colab_type": "code",
        "colab": {
          "base_uri": "https://localhost:8080/",
          "height": 72
        },
        "outputId": "1964de66-c656-4599-aac7-a2d47e4b055e"
      },
      "source": [
        "# numero de dimensões\n",
        "matriz[0]"
      ],
      "execution_count": null,
      "outputs": [
        {
          "output_type": "execute_result",
          "data": {
            "text/plain": [
              "array([[1., 1.],\n",
              "       [1., 1.],\n",
              "       [1., 1.]])"
            ]
          },
          "metadata": {
            "tags": []
          },
          "execution_count": 43
        }
      ]
    },
    {
      "cell_type": "markdown",
      "metadata": {
        "id": "5l0ST9nuuNL9",
        "colab_type": "text"
      },
      "source": [
        "#####Exercício 4"
      ]
    },
    {
      "cell_type": "code",
      "metadata": {
        "id": "O50gDxrgug3b",
        "colab_type": "code",
        "colab": {
          "base_uri": "https://localhost:8080/",
          "height": 72
        },
        "outputId": "358b60fd-b189-454b-e3a6-a0f64b4f04ee"
      },
      "source": [
        "# Crie um array de duas dimensões (matriz).\n",
        "# Imprima os elementos da terceira linha da matriz\n",
        "# Imprima todos os elementos da primeira e segunda linhas e segunda e terceira colunas\n",
        "matriz = np.array([[1,2,3,4],[4,5,6,7],[8,9,0,1]])\n",
        "print(matriz)"
      ],
      "execution_count": null,
      "outputs": [
        {
          "output_type": "stream",
          "text": [
            "[[1 2 3 4]\n",
            " [4 5 6 7]\n",
            " [8 9 0 1]]\n"
          ],
          "name": "stdout"
        }
      ]
    },
    {
      "cell_type": "code",
      "metadata": {
        "id": "LpiiPBObBC66",
        "colab_type": "code",
        "colab": {
          "base_uri": "https://localhost:8080/",
          "height": 35
        },
        "outputId": "5e0c153c-ca69-44b9-da40-87a030c0249f"
      },
      "source": [
        "# imprimindo os elementos da terceira linha\n",
        "matriz[2:]"
      ],
      "execution_count": null,
      "outputs": [
        {
          "output_type": "execute_result",
          "data": {
            "text/plain": [
              "array([[8, 9, 0, 1]])"
            ]
          },
          "metadata": {
            "tags": []
          },
          "execution_count": 4
        }
      ]
    },
    {
      "cell_type": "code",
      "metadata": {
        "id": "EZ0fbihPA4mR",
        "colab_type": "code",
        "colab": {
          "base_uri": "https://localhost:8080/",
          "height": 54
        },
        "outputId": "7af82f7d-8aa1-4570-b0a5-2356f68f9a68"
      },
      "source": [
        "# imprimindo todos elementos da primeira e segunda linha e segunda e terceira coluna\n",
        "matriz[[0,1],1:3]"
      ],
      "execution_count": null,
      "outputs": [
        {
          "output_type": "execute_result",
          "data": {
            "text/plain": [
              "array([[2, 3],\n",
              "       [5, 6]])"
            ]
          },
          "metadata": {
            "tags": []
          },
          "execution_count": 7
        }
      ]
    },
    {
      "cell_type": "markdown",
      "metadata": {
        "id": "UsWc3kRKuOu7",
        "colab_type": "text"
      },
      "source": [
        "#####Exercício 5"
      ]
    },
    {
      "cell_type": "code",
      "metadata": {
        "id": "D76dSXPAujKW",
        "colab_type": "code",
        "colab": {
          "base_uri": "https://localhost:8080/",
          "height": 72
        },
        "outputId": "72da0ccb-a537-4eca-f7de-6ebe5d2f14cc"
      },
      "source": [
        "# Calcule a transposta da matriz abaixo\n",
        "arr = np.arange(15).reshape((3, 5))\n",
        "arr"
      ],
      "execution_count": null,
      "outputs": [
        {
          "output_type": "execute_result",
          "data": {
            "text/plain": [
              "array([[ 0,  1,  2,  3,  4],\n",
              "       [ 5,  6,  7,  8,  9],\n",
              "       [10, 11, 12, 13, 14]])"
            ]
          },
          "metadata": {
            "tags": []
          },
          "execution_count": 23
        }
      ]
    },
    {
      "cell_type": "code",
      "metadata": {
        "id": "GOWlGUXfbDHv",
        "colab_type": "code",
        "colab": {
          "base_uri": "https://localhost:8080/",
          "height": 108
        },
        "outputId": "8154f96c-f1d0-47f8-d888-283683743eab"
      },
      "source": [
        "np.transpose(arr)"
      ],
      "execution_count": null,
      "outputs": [
        {
          "output_type": "execute_result",
          "data": {
            "text/plain": [
              "array([[ 0,  5, 10],\n",
              "       [ 1,  6, 11],\n",
              "       [ 2,  7, 12],\n",
              "       [ 3,  8, 13],\n",
              "       [ 4,  9, 14]])"
            ]
          },
          "metadata": {
            "tags": []
          },
          "execution_count": 24
        }
      ]
    },
    {
      "cell_type": "markdown",
      "metadata": {
        "id": "D7L7E9YOuQXl",
        "colab_type": "text"
      },
      "source": [
        "#####Exercício 6"
      ]
    },
    {
      "cell_type": "code",
      "metadata": {
        "id": "l7yEkHgBumSs",
        "colab_type": "code",
        "colab": {}
      },
      "source": [
        "# Considere os 3 arrays abaixo\n",
        "# Retorne o valor do array xarr se o valor for True no array cond. Caso contrário, retorne o valor do array yarr.\n",
        "xarr = np.array([1.1, 1.2, 1.3, 1.4, 1.5])\n",
        "yarr = np.array([2.1, 2.2, 2.3, 2.4, 2.5])\n",
        "cond = np.array([True, False, True, True, False])"
      ],
      "execution_count": null,
      "outputs": []
    },
    {
      "cell_type": "code",
      "metadata": {
        "id": "dsVU6qkUhgag",
        "colab_type": "code",
        "colab": {
          "base_uri": "https://localhost:8080/",
          "height": 108
        },
        "outputId": "ceca6322-c58e-4ded-9853-f1160ae0a598"
      },
      "source": [
        "for x, y, c in zip(xarr, yarr, cond):\n",
        "    print(x, y, c)"
      ],
      "execution_count": null,
      "outputs": [
        {
          "output_type": "stream",
          "text": [
            "1.1 2.1 True\n",
            "1.2 2.2 False\n",
            "1.3 2.3 True\n",
            "1.4 2.4 True\n",
            "1.5 2.5 False\n"
          ],
          "name": "stdout"
        }
      ]
    },
    {
      "cell_type": "code",
      "metadata": {
        "id": "1Bwq_6Z3qLQh",
        "colab_type": "code",
        "colab": {
          "base_uri": "https://localhost:8080/",
          "height": 35
        },
        "outputId": "06978e92-6c86-4125-98ed-ca5ce2016d26"
      },
      "source": [
        "resultado = [(x if c else y) for x, y, c in zip(xarr, yarr, cond)]\n",
        "resultado"
      ],
      "execution_count": null,
      "outputs": [
        {
          "output_type": "execute_result",
          "data": {
            "text/plain": [
              "[1.1, 2.2, 1.3, 1.4, 2.5]"
            ]
          },
          "metadata": {
            "tags": []
          },
          "execution_count": 46
        }
      ]
    },
    {
      "cell_type": "markdown",
      "metadata": {
        "id": "g6ic4CpLuRVq",
        "colab_type": "text"
      },
      "source": [
        "#####Exercício 7"
      ]
    },
    {
      "cell_type": "code",
      "metadata": {
        "id": "DUZLK8hWuoke",
        "colab_type": "code",
        "colab": {}
      },
      "source": [
        "# Crie um array A com 10 elementos e salve o array em disco com a extensão npy\n",
        "# Depois carregue o array do disco no array B\n",
        "A = np.arange(5, 15, 1)\n",
        "np.save('A.npy', A)"
      ],
      "execution_count": null,
      "outputs": []
    },
    {
      "cell_type": "code",
      "metadata": {
        "id": "7r4xBbLnyMqP",
        "colab_type": "code",
        "colab": {
          "base_uri": "https://localhost:8080/",
          "height": 35
        },
        "outputId": "20b72ee0-6c77-478f-b604-b166a8972a83"
      },
      "source": [
        "# carregando array em B\n",
        "B = np.load('A.npy')\n",
        "print(B)"
      ],
      "execution_count": null,
      "outputs": [
        {
          "output_type": "stream",
          "text": [
            "[ 5  6  7  8  9 10 11 12 13 14]\n"
          ],
          "name": "stdout"
        }
      ]
    },
    {
      "cell_type": "markdown",
      "metadata": {
        "id": "cEbKDovKuSea",
        "colab_type": "text"
      },
      "source": [
        "#####Exercício 8"
      ]
    },
    {
      "cell_type": "code",
      "metadata": {
        "id": "-Ova9dRvuqbV",
        "colab_type": "code",
        "colab": {
          "base_uri": "https://localhost:8080/",
          "height": 35
        },
        "outputId": "b0f42547-5fdf-41b2-d8e5-abbef04802b4"
      },
      "source": [
        "# Considerando a série abaixo, imprima os valores únicos na série\n",
        "import pandas as pd\n",
        "obj = pd.Series(['c', 'a', 'd', 'a', 'a', 'b', 'b', 'c', 'c', 'a', 'b'])\n",
        "obj.unique()"
      ],
      "execution_count": null,
      "outputs": [
        {
          "output_type": "execute_result",
          "data": {
            "text/plain": [
              "array(['c', 'a', 'd', 'b'], dtype=object)"
            ]
          },
          "metadata": {
            "tags": []
          },
          "execution_count": 3
        }
      ]
    },
    {
      "cell_type": "markdown",
      "metadata": {
        "id": "ZhY6KoRMuT8b",
        "colab_type": "text"
      },
      "source": [
        "#####Exercício 9"
      ]
    },
    {
      "cell_type": "code",
      "metadata": {
        "id": "n1h52KFvusfV",
        "colab_type": "code",
        "colab": {
          "base_uri": "https://localhost:8080/",
          "height": 35
        },
        "outputId": "9d48e093-3143-47a2-f3ad-a7118344653c"
      },
      "source": [
        "# Considerando o trecho de código que conecta em uma url na internet, imprima o dataframe conforme abaixo.\n",
        "import requests\n",
        "url = 'https://api.github.com/repos/pandas-dev/pandas/issues'\n",
        "resp = requests.get(url)\n",
        "resp"
      ],
      "execution_count": null,
      "outputs": [
        {
          "output_type": "execute_result",
          "data": {
            "text/plain": [
              "<Response [200]>"
            ]
          },
          "metadata": {
            "tags": []
          },
          "execution_count": 50
        }
      ]
    },
    {
      "cell_type": "code",
      "metadata": {
        "id": "htjSTZCOfQ0Y",
        "colab_type": "code",
        "colab": {
          "base_uri": "https://localhost:8080/",
          "height": 35
        },
        "outputId": "a50d511c-41e4-421c-a156-58e3a29997d3"
      },
      "source": [
        "data = resp.json()\n",
        "data[0]['title']"
      ],
      "execution_count": null,
      "outputs": [
        {
          "output_type": "execute_result",
          "data": {
            "application/vnd.google.colaboratory.intrinsic": {
              "type": "string"
            },
            "text/plain": [
              "'FIX: remove dependence on matplotlib.dates.epoch2num'"
            ]
          },
          "metadata": {
            "tags": []
          },
          "execution_count": 51
        }
      ]
    },
    {
      "cell_type": "code",
      "metadata": {
        "id": "9HT5E-PSq_ZP",
        "colab_type": "code",
        "colab": {
          "base_uri": "https://localhost:8080/",
          "height": 948
        },
        "outputId": "51f0e5ae-619c-47c2-bd16-dc0a33909c5a"
      },
      "source": [
        "df = pd.DataFrame(data, columns=['number', 'title', 'labels', 'state'])\n",
        "df"
      ],
      "execution_count": null,
      "outputs": [
        {
          "output_type": "execute_result",
          "data": {
            "text/html": [
              "<div>\n",
              "<style scoped>\n",
              "    .dataframe tbody tr th:only-of-type {\n",
              "        vertical-align: middle;\n",
              "    }\n",
              "\n",
              "    .dataframe tbody tr th {\n",
              "        vertical-align: top;\n",
              "    }\n",
              "\n",
              "    .dataframe thead th {\n",
              "        text-align: right;\n",
              "    }\n",
              "</style>\n",
              "<table border=\"1\" class=\"dataframe\">\n",
              "  <thead>\n",
              "    <tr style=\"text-align: right;\">\n",
              "      <th></th>\n",
              "      <th>number</th>\n",
              "      <th>title</th>\n",
              "      <th>labels</th>\n",
              "      <th>state</th>\n",
              "    </tr>\n",
              "  </thead>\n",
              "  <tbody>\n",
              "    <tr>\n",
              "      <th>0</th>\n",
              "      <td>35361</td>\n",
              "      <td>FIX: remove dependence on matplotlib.dates.epo...</td>\n",
              "      <td>[]</td>\n",
              "      <td>open</td>\n",
              "    </tr>\n",
              "    <tr>\n",
              "      <th>1</th>\n",
              "      <td>35360</td>\n",
              "      <td>fix bug when combining groupby with resample a...</td>\n",
              "      <td>[]</td>\n",
              "      <td>open</td>\n",
              "    </tr>\n",
              "    <tr>\n",
              "      <th>2</th>\n",
              "      <td>35359</td>\n",
              "      <td>REF: implement _apply_blockwise</td>\n",
              "      <td>[{'id': 697792067, 'node_id': 'MDU6TGFiZWw2OTc...</td>\n",
              "      <td>open</td>\n",
              "    </tr>\n",
              "    <tr>\n",
              "      <th>3</th>\n",
              "      <td>35357</td>\n",
              "      <td>PERF: BlockManager.equals blockwise</td>\n",
              "      <td>[{'id': 49094459, 'node_id': 'MDU6TGFiZWw0OTA5...</td>\n",
              "      <td>open</td>\n",
              "    </tr>\n",
              "    <tr>\n",
              "      <th>4</th>\n",
              "      <td>35356</td>\n",
              "      <td>REF: Avoid post-processing in blockwise op</td>\n",
              "      <td>[{'id': 233160, 'node_id': 'MDU6TGFiZWwyMzMxNj...</td>\n",
              "      <td>open</td>\n",
              "    </tr>\n",
              "    <tr>\n",
              "      <th>5</th>\n",
              "      <td>35355</td>\n",
              "      <td>DOC: Fix small spelling mistake in style docs</td>\n",
              "      <td>[{'id': 134699, 'node_id': 'MDU6TGFiZWwxMzQ2OT...</td>\n",
              "      <td>open</td>\n",
              "    </tr>\n",
              "    <tr>\n",
              "      <th>6</th>\n",
              "      <td>35354</td>\n",
              "      <td>QST: How to provide regular expression in na_v...</td>\n",
              "      <td>[{'id': 307649777, 'node_id': 'MDU6TGFiZWwzMDc...</td>\n",
              "      <td>open</td>\n",
              "    </tr>\n",
              "    <tr>\n",
              "      <th>7</th>\n",
              "      <td>35353</td>\n",
              "      <td>REGR: MultiIndex Indexing</td>\n",
              "      <td>[{'id': 76811, 'node_id': 'MDU6TGFiZWw3NjgxMQ=...</td>\n",
              "      <td>open</td>\n",
              "    </tr>\n",
              "    <tr>\n",
              "      <th>8</th>\n",
              "      <td>35352</td>\n",
              "      <td>to_sql functionality not working on python</td>\n",
              "      <td>[{'id': 307649777, 'node_id': 'MDU6TGFiZWwzMDc...</td>\n",
              "      <td>open</td>\n",
              "    </tr>\n",
              "    <tr>\n",
              "      <th>9</th>\n",
              "      <td>35351</td>\n",
              "      <td>BUG: multiindex slice 1.1.0rc0</td>\n",
              "      <td>[{'id': 76811, 'node_id': 'MDU6TGFiZWw3NjgxMQ=...</td>\n",
              "      <td>open</td>\n",
              "    </tr>\n",
              "    <tr>\n",
              "      <th>10</th>\n",
              "      <td>35350</td>\n",
              "      <td>BUG: register_matplotlib_converters leads to w...</td>\n",
              "      <td>[{'id': 76811, 'node_id': 'MDU6TGFiZWw3NjgxMQ=...</td>\n",
              "      <td>open</td>\n",
              "    </tr>\n",
              "    <tr>\n",
              "      <th>11</th>\n",
              "      <td>35349</td>\n",
              "      <td>Non-intuitive behavior when multi-indexing a S...</td>\n",
              "      <td>[{'id': 76811, 'node_id': 'MDU6TGFiZWw3NjgxMQ=...</td>\n",
              "      <td>open</td>\n",
              "    </tr>\n",
              "    <tr>\n",
              "      <th>12</th>\n",
              "      <td>35348</td>\n",
              "      <td>Update datetimes.py</td>\n",
              "      <td>[]</td>\n",
              "      <td>open</td>\n",
              "    </tr>\n",
              "    <tr>\n",
              "      <th>13</th>\n",
              "      <td>35347</td>\n",
              "      <td>BUG/FEATURE: to_sql data types not reflecting ...</td>\n",
              "      <td>[{'id': 76811, 'node_id': 'MDU6TGFiZWw3NjgxMQ=...</td>\n",
              "      <td>open</td>\n",
              "    </tr>\n",
              "    <tr>\n",
              "      <th>14</th>\n",
              "      <td>35346</td>\n",
              "      <td>ENH: `.to_timedelta` method for `PeriodIndex` ...</td>\n",
              "      <td>[{'id': 76812, 'node_id': 'MDU6TGFiZWw3NjgxMg=...</td>\n",
              "      <td>open</td>\n",
              "    </tr>\n",
              "    <tr>\n",
              "      <th>15</th>\n",
              "      <td>35345</td>\n",
              "      <td>DOC: expand \"using a Docker container\" section</td>\n",
              "      <td>[{'id': 134699, 'node_id': 'MDU6TGFiZWwxMzQ2OT...</td>\n",
              "      <td>open</td>\n",
              "    </tr>\n",
              "    <tr>\n",
              "      <th>16</th>\n",
              "      <td>35344</td>\n",
              "      <td>TYP: remove # type: ignore for unpacking compr...</td>\n",
              "      <td>[{'id': 1280988427, 'node_id': 'MDU6TGFiZWwxMj...</td>\n",
              "      <td>open</td>\n",
              "    </tr>\n",
              "    <tr>\n",
              "      <th>17</th>\n",
              "      <td>35342</td>\n",
              "      <td>BUG: date_range returns wrong output in some c...</td>\n",
              "      <td>[{'id': 76811, 'node_id': 'MDU6TGFiZWw3NjgxMQ=...</td>\n",
              "      <td>open</td>\n",
              "    </tr>\n",
              "    <tr>\n",
              "      <th>18</th>\n",
              "      <td>35341</td>\n",
              "      <td>ENH: Select numeric ExtensionDtypes with DataF...</td>\n",
              "      <td>[{'id': 31404521, 'node_id': 'MDU6TGFiZWwzMTQw...</td>\n",
              "      <td>open</td>\n",
              "    </tr>\n",
              "    <tr>\n",
              "      <th>19</th>\n",
              "      <td>35340</td>\n",
              "      <td>ENH: Select numeric ExtensionDtypes with DataF...</td>\n",
              "      <td>[{'id': 31404521, 'node_id': 'MDU6TGFiZWwzMTQw...</td>\n",
              "      <td>open</td>\n",
              "    </tr>\n",
              "    <tr>\n",
              "      <th>20</th>\n",
              "      <td>35339</td>\n",
              "      <td>CI: resolve conflict between mypy and isort</td>\n",
              "      <td>[]</td>\n",
              "      <td>open</td>\n",
              "    </tr>\n",
              "    <tr>\n",
              "      <th>21</th>\n",
              "      <td>35338</td>\n",
              "      <td>BUG: assign consensus name to index union in a...</td>\n",
              "      <td>[{'id': 13098779, 'node_id': 'MDU6TGFiZWwxMzA5...</td>\n",
              "      <td>open</td>\n",
              "    </tr>\n",
              "    <tr>\n",
              "      <th>22</th>\n",
              "      <td>35337</td>\n",
              "      <td>DOC: Improve DataFrame.dropna subset example</td>\n",
              "      <td>[{'id': 134699, 'node_id': 'MDU6TGFiZWwxMzQ2OT...</td>\n",
              "      <td>open</td>\n",
              "    </tr>\n",
              "    <tr>\n",
              "      <th>23</th>\n",
              "      <td>35335</td>\n",
              "      <td>BUG: Inconsistent resampling behaviour</td>\n",
              "      <td>[{'id': 307649777, 'node_id': 'MDU6TGFiZWwzMDc...</td>\n",
              "      <td>open</td>\n",
              "    </tr>\n",
              "    <tr>\n",
              "      <th>24</th>\n",
              "      <td>35334</td>\n",
              "      <td>REGR: np.argwhere on pd.Series raises ValueError</td>\n",
              "      <td>[{'id': 76865106, 'node_id': 'MDU6TGFiZWw3Njg2...</td>\n",
              "      <td>open</td>\n",
              "    </tr>\n",
              "    <tr>\n",
              "      <th>25</th>\n",
              "      <td>35333</td>\n",
              "      <td>Fix MPL dt conversion (epoch2num deprecation) ...</td>\n",
              "      <td>[]</td>\n",
              "      <td>open</td>\n",
              "    </tr>\n",
              "    <tr>\n",
              "      <th>26</th>\n",
              "      <td>35332</td>\n",
              "      <td>DOC: [Errno 2] No such file or directory</td>\n",
              "      <td>[{'id': 134699, 'node_id': 'MDU6TGFiZWwxMzQ2OT...</td>\n",
              "      <td>open</td>\n",
              "    </tr>\n",
              "    <tr>\n",
              "      <th>27</th>\n",
              "      <td>35331</td>\n",
              "      <td>BUG: np.argwhere on pandas series</td>\n",
              "      <td>[{'id': 76811, 'node_id': 'MDU6TGFiZWw3NjgxMQ=...</td>\n",
              "      <td>open</td>\n",
              "    </tr>\n",
              "    <tr>\n",
              "      <th>28</th>\n",
              "      <td>35330</td>\n",
              "      <td>REF: remove special casing from Index.equals (...</td>\n",
              "      <td>[{'id': 127681, 'node_id': 'MDU6TGFiZWwxMjc2OD...</td>\n",
              "      <td>open</td>\n",
              "    </tr>\n",
              "    <tr>\n",
              "      <th>29</th>\n",
              "      <td>35326</td>\n",
              "      <td>BUG: multiindex reindex doesn't work properly</td>\n",
              "      <td>[{'id': 76811, 'node_id': 'MDU6TGFiZWw3NjgxMQ=...</td>\n",
              "      <td>open</td>\n",
              "    </tr>\n",
              "  </tbody>\n",
              "</table>\n",
              "</div>"
            ],
            "text/plain": [
              "    number  ... state\n",
              "0    35361  ...  open\n",
              "1    35360  ...  open\n",
              "2    35359  ...  open\n",
              "3    35357  ...  open\n",
              "4    35356  ...  open\n",
              "5    35355  ...  open\n",
              "6    35354  ...  open\n",
              "7    35353  ...  open\n",
              "8    35352  ...  open\n",
              "9    35351  ...  open\n",
              "10   35350  ...  open\n",
              "11   35349  ...  open\n",
              "12   35348  ...  open\n",
              "13   35347  ...  open\n",
              "14   35346  ...  open\n",
              "15   35345  ...  open\n",
              "16   35344  ...  open\n",
              "17   35342  ...  open\n",
              "18   35341  ...  open\n",
              "19   35340  ...  open\n",
              "20   35339  ...  open\n",
              "21   35338  ...  open\n",
              "22   35337  ...  open\n",
              "23   35335  ...  open\n",
              "24   35334  ...  open\n",
              "25   35333  ...  open\n",
              "26   35332  ...  open\n",
              "27   35331  ...  open\n",
              "28   35330  ...  open\n",
              "29   35326  ...  open\n",
              "\n",
              "[30 rows x 4 columns]"
            ]
          },
          "metadata": {
            "tags": []
          },
          "execution_count": 52
        }
      ]
    },
    {
      "cell_type": "markdown",
      "metadata": {
        "id": "yWfuTmb8uVM7",
        "colab_type": "text"
      },
      "source": [
        "#####Exercício 10"
      ]
    },
    {
      "cell_type": "code",
      "metadata": {
        "id": "PFtil32CuW4x",
        "colab_type": "code",
        "colab": {}
      },
      "source": [
        "# Crie um banco de dados no SQLite, crie uma tabela, insira registros, \n",
        "# consulte a tabela e retorne os dados em dataframe do Pandas\n",
        "import sqlite3"
      ],
      "execution_count": null,
      "outputs": []
    },
    {
      "cell_type": "code",
      "metadata": {
        "id": "JLgPwmHxhD9k",
        "colab_type": "code",
        "colab": {}
      },
      "source": [
        "banco = sqlite3.connect('exercicio.db')\n",
        "cur = banco.cursor()"
      ],
      "execution_count": null,
      "outputs": []
    },
    {
      "cell_type": "code",
      "metadata": {
        "id": "xHvwbE0DiXMy",
        "colab_type": "code",
        "colab": {}
      },
      "source": [
        "sql_create = 'create table cursos'\\\n",
        "'(id integer primary key, '\\\n",
        "'titulo varchar(100), '\\\n",
        "'categoria varchar(140))'"
      ],
      "execution_count": null,
      "outputs": []
    },
    {
      "cell_type": "code",
      "metadata": {
        "id": "-sznSw6-jQCi",
        "colab_type": "code",
        "colab": {
          "base_uri": "https://localhost:8080/",
          "height": 35
        },
        "outputId": "6ec6e8b9-f0e7-4e15-b429-ccf743652c84"
      },
      "source": [
        "cur.execute(sql_create)"
      ],
      "execution_count": null,
      "outputs": [
        {
          "output_type": "execute_result",
          "data": {
            "text/plain": [
              "<sqlite3.Cursor at 0x7f52be0e2ab0>"
            ]
          },
          "metadata": {
            "tags": []
          },
          "execution_count": 11
        }
      ]
    },
    {
      "cell_type": "code",
      "metadata": {
        "id": "LGMmwvTfjXe9",
        "colab_type": "code",
        "colab": {}
      },
      "source": [
        "sql_insert = 'insert into cursos values (?, ?, ?)'"
      ],
      "execution_count": null,
      "outputs": []
    },
    {
      "cell_type": "code",
      "metadata": {
        "id": "W-c5X7YKkJ7X",
        "colab_type": "code",
        "colab": {}
      },
      "source": [
        "recset = [(1000, 'Ciência de dados', 'Data Science'),\n",
        "          (1001, 'Big Data Fundamentos', 'Big Data'),\n",
        "          (1002, 'Python Fundamentos', 'Analise de Dados')]"
      ],
      "execution_count": null,
      "outputs": []
    },
    {
      "cell_type": "code",
      "metadata": {
        "id": "OvuGBkuXksri",
        "colab_type": "code",
        "colab": {}
      },
      "source": [
        "for rec in recset:\n",
        "  cur.execute(sql_insert, rec)"
      ],
      "execution_count": null,
      "outputs": []
    },
    {
      "cell_type": "code",
      "metadata": {
        "id": "wsiKJbq1k5mN",
        "colab_type": "code",
        "colab": {}
      },
      "source": [
        "banco.commit()"
      ],
      "execution_count": null,
      "outputs": []
    },
    {
      "cell_type": "code",
      "metadata": {
        "id": "NhITY7v8lCF4",
        "colab_type": "code",
        "colab": {}
      },
      "source": [
        "sql_select = 'select * from cursos'\n",
        "cur.execute(sql_select)\n",
        "dados = cur.fetchall()"
      ],
      "execution_count": null,
      "outputs": []
    },
    {
      "cell_type": "code",
      "metadata": {
        "id": "xEUSxNiFlj1H",
        "colab_type": "code",
        "colab": {}
      },
      "source": [
        "df = pd.DataFrame(dados)"
      ],
      "execution_count": null,
      "outputs": []
    },
    {
      "cell_type": "code",
      "metadata": {
        "id": "Scogl4XyllBM",
        "colab_type": "code",
        "colab": {
          "base_uri": "https://localhost:8080/",
          "height": 138
        },
        "outputId": "4f5cd4e8-484c-45a8-d652-7b0666ca3011"
      },
      "source": [
        "df"
      ],
      "execution_count": null,
      "outputs": [
        {
          "output_type": "execute_result",
          "data": {
            "text/html": [
              "<div>\n",
              "<style scoped>\n",
              "    .dataframe tbody tr th:only-of-type {\n",
              "        vertical-align: middle;\n",
              "    }\n",
              "\n",
              "    .dataframe tbody tr th {\n",
              "        vertical-align: top;\n",
              "    }\n",
              "\n",
              "    .dataframe thead th {\n",
              "        text-align: right;\n",
              "    }\n",
              "</style>\n",
              "<table border=\"1\" class=\"dataframe\">\n",
              "  <thead>\n",
              "    <tr style=\"text-align: right;\">\n",
              "      <th></th>\n",
              "      <th>0</th>\n",
              "      <th>1</th>\n",
              "      <th>2</th>\n",
              "    </tr>\n",
              "  </thead>\n",
              "  <tbody>\n",
              "    <tr>\n",
              "      <th>0</th>\n",
              "      <td>1000</td>\n",
              "      <td>Ciência de dados</td>\n",
              "      <td>Data Science</td>\n",
              "    </tr>\n",
              "    <tr>\n",
              "      <th>1</th>\n",
              "      <td>1001</td>\n",
              "      <td>Big Data Fundamentos</td>\n",
              "      <td>Big Data</td>\n",
              "    </tr>\n",
              "    <tr>\n",
              "      <th>2</th>\n",
              "      <td>1002</td>\n",
              "      <td>Python Fundamentos</td>\n",
              "      <td>Analise de Dados</td>\n",
              "    </tr>\n",
              "  </tbody>\n",
              "</table>\n",
              "</div>"
            ],
            "text/plain": [
              "      0                     1                 2\n",
              "0  1000      Ciência de dados      Data Science\n",
              "1  1001  Big Data Fundamentos          Big Data\n",
              "2  1002    Python Fundamentos  Analise de Dados"
            ]
          },
          "metadata": {
            "tags": []
          },
          "execution_count": 20
        }
      ]
    },
    {
      "cell_type": "code",
      "metadata": {
        "id": "P6xEMfjpl4H-",
        "colab_type": "code",
        "colab": {}
      },
      "source": [
        ""
      ],
      "execution_count": null,
      "outputs": []
    }
  ]
}